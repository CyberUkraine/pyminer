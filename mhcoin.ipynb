{
  "nbformat": 4,
  "nbformat_minor": 0,
  "metadata": {
    "colab": {
      "name": "mhcoin.ipynb",
      "provenance": [],
      "collapsed_sections": [],
      "include_colab_link": true
    },
    "kernelspec": {
      "name": "python3",
      "display_name": "Python 3"
    }
  },
  "cells": [
    {
      "cell_type": "markdown",
      "metadata": {
        "id": "view-in-github",
        "colab_type": "text"
      },
      "source": [
        "<a href=\"https://colab.research.google.com/github/CyberUkraine/pyminer/blob/master/mhcoin.ipynb\" target=\"_parent\"><img src=\"https://colab.research.google.com/assets/colab-badge.svg\" alt=\"Open In Colab\"/></a>"
      ]
    },
    {
      "cell_type": "code",
      "metadata": {
        "id": "J7fFWuFzH07c",
        "outputId": "37479ef4-931c-4553-b0dd-a89c4ea2eeaa",
        "colab": {
          "base_uri": "https://localhost:8080/"
        }
      },
      "source": [
        "!curl -o mhcoin.py https://skyportal.xyz/CACc-C35EkQPeV-05knIyZp8ufi-VXQiKaoF7Zdl5LWY0w"
      ],
      "execution_count": 1,
      "outputs": [
        {
          "output_type": "stream",
          "text": [
            "  % Total    % Received % Xferd  Average Speed   Time    Time     Time  Current\n",
            "                                 Dload  Upload   Total   Spent    Left  Speed\n",
            "100  7080  100  7080    0     0  12061      0 --:--:-- --:--:-- --:--:-- 12081\n"
          ],
          "name": "stdout"
        }
      ]
    },
    {
      "cell_type": "code",
      "metadata": {
        "id": "EsYHz9znIh2s",
        "outputId": "9b7d833f-af97-45c7-d0a3-bd6afa6c9783",
        "colab": {
          "base_uri": "https://localhost:8080/"
        }
      },
      "source": [
        "!pip3 install colorama"
      ],
      "execution_count": 2,
      "outputs": [
        {
          "output_type": "stream",
          "text": [
            "Collecting colorama\n",
            "  Downloading https://files.pythonhosted.org/packages/44/98/5b86278fbbf250d239ae0ecb724f8572af1c91f4a11edf4d36a206189440/colorama-0.4.4-py2.py3-none-any.whl\n",
            "Installing collected packages: colorama\n",
            "Successfully installed colorama-0.4.4\n"
          ],
          "name": "stdout"
        }
      ]
    },
    {
      "cell_type": "code",
      "metadata": {
        "id": "41RswWbpImQZ",
        "outputId": "cad115dc-aa5f-4ff3-bf97-19f77bc2b427",
        "colab": {
          "base_uri": "https://localhost:8080/"
        }
      },
      "source": [
        "!python3 mhcoin.py r1ace1 6"
      ],
      "execution_count": null,
      "outputs": [
        {
          "output_type": "stream",
          "text": [
            "Майнер для пользователя r1ace1 запущен с 6 потоком(и).\n",
            "\u001b[H\u001b[2J\u001b[93m\u001b[46mThread    Hashrate      Accepted   Rejected  \u001b[0m\n",
            "\u001b[36m#1        0.0 kH/s      0          0         \u001b[0m\n",
            "\u001b[36m#2        0.0 kH/s      0          0         \u001b[0m\n",
            "\u001b[36m#3        0.0 kH/s      0          0         \u001b[0m\n",
            "\u001b[36m#4        0.0 kH/s      0          0         \u001b[0m\n",
            "\u001b[36m#5        0.0 kH/s      0          0         \u001b[0m\n",
            "\u001b[36m#6        0.0 kH/s      0          0         \u001b[0m\n",
            "\u001b[41mTOTAL     0.0 kH/s      0          0         \u001b[0m\n",
            "\u001b[H\u001b[2J\u001b[93m\u001b[46mThread    Hashrate      Accepted   Rejected  \u001b[0m\n",
            "\u001b[36m#1        140.08 kH/s   2          0         \u001b[0m\n",
            "\u001b[36m#2        117.11 kH/s   2          0         \u001b[0m\n",
            "\u001b[36m#3        113.37 kH/s   2          0         \u001b[0m\n",
            "\u001b[36m#4        110.96 kH/s   3          0         \u001b[0m\n",
            "\u001b[36m#5        118.2 kH/s    1          0         \u001b[0m\n",
            "\u001b[36m#6        106.49 kH/s   1          0         \u001b[0m\n",
            "\u001b[41mTOTAL     706.21 kH/s   11         0         \u001b[0m\n",
            "\u001b[H\u001b[2J\u001b[93m\u001b[46mThread    Hashrate      Accepted   Rejected  \u001b[0m\n",
            "\u001b[36m#1        133.46 kH/s   3          0         \u001b[0m\n",
            "\u001b[36m#2        119.16 kH/s   3          0         \u001b[0m\n",
            "\u001b[36m#3        117.7 kH/s    4          0         \u001b[0m\n",
            "\u001b[36m#4        116.38 kH/s   5          0         \u001b[0m\n",
            "\u001b[36m#5        117.3 kH/s    2          0         \u001b[0m\n",
            "\u001b[36m#6        118.18 kH/s   3          0         \u001b[0m\n",
            "\u001b[41mTOTAL     722.18 kH/s   20         0         \u001b[0m\n",
            "\u001b[H\u001b[2J\u001b[93m\u001b[46mThread    Hashrate      Accepted   Rejected  \u001b[0m\n",
            "\u001b[36m#1        127.77 kH/s   5          0         \u001b[0m\n",
            "\u001b[36m#2        119.83 kH/s   4          0         \u001b[0m\n",
            "\u001b[36m#3        118.54 kH/s   7          0         \u001b[0m\n",
            "\u001b[36m#4        119.02 kH/s   7          0         \u001b[0m\n",
            "\u001b[36m#5        119.41 kH/s   4          0         \u001b[0m\n",
            "\u001b[36m#6        120.13 kH/s   5          0         \u001b[0m\n",
            "\u001b[41mTOTAL     724.7 kH/s    32         0         \u001b[0m\n",
            "\u001b[H\u001b[2J\u001b[93m\u001b[46mThread    Hashrate      Accepted   Rejected  \u001b[0m\n",
            "\u001b[36m#1        121.74 kH/s   6          0         \u001b[0m\n",
            "\u001b[36m#2        118.81 kH/s   7          0         \u001b[0m\n",
            "\u001b[36m#3        117.27 kH/s   10         0         \u001b[0m\n",
            "\u001b[36m#4        118.51 kH/s   9          0         \u001b[0m\n",
            "\u001b[36m#5        118.95 kH/s   5          0         \u001b[0m\n",
            "\u001b[36m#6        125.26 kH/s   7          0         \u001b[0m\n",
            "\u001b[41mTOTAL     720.54 kH/s   44         0         \u001b[0m\n",
            "\u001b[H\u001b[2J\u001b[93m\u001b[46mThread    Hashrate      Accepted   Rejected  \u001b[0m\n",
            "\u001b[36m#1        121.33 kH/s   8          0         \u001b[0m\n",
            "\u001b[36m#2        118.29 kH/s   9          0         \u001b[0m\n",
            "\u001b[36m#3        119.43 kH/s   12         0         \u001b[0m\n",
            "\u001b[36m#4        118.21 kH/s   11         0         \u001b[0m\n",
            "\u001b[36m#5        118.55 kH/s   7          0         \u001b[0m\n",
            "\u001b[36m#6        124.5 kH/s    9          0         \u001b[0m\n",
            "\u001b[41mTOTAL     720.31 kH/s   56         0         \u001b[0m\n",
            "\u001b[H\u001b[2J\u001b[93m\u001b[46mThread    Hashrate      Accepted   Rejected  \u001b[0m\n",
            "\u001b[36m#1        121.69 kH/s   10         0         \u001b[0m\n",
            "\u001b[36m#2        118.26 kH/s   10         0         \u001b[0m\n",
            "\u001b[36m#3        117.21 kH/s   15         0         \u001b[0m\n",
            "\u001b[36m#4        118.14 kH/s   13         0         \u001b[0m\n",
            "\u001b[36m#5        118.61 kH/s   8          0         \u001b[0m\n",
            "\u001b[36m#6        122.76 kH/s   11         0         \u001b[0m\n",
            "\u001b[41mTOTAL     716.67 kH/s   67         0         \u001b[0m\n",
            "\u001b[H\u001b[2J\u001b[93m\u001b[46mThread    Hashrate      Accepted   Rejected  \u001b[0m\n",
            "\u001b[36m#1        121.71 kH/s   12         0         \u001b[0m\n",
            "\u001b[36m#2        120.02 kH/s   12         0         \u001b[0m\n",
            "\u001b[36m#3        117.68 kH/s   16         0         \u001b[0m\n",
            "\u001b[36m#4        117.98 kH/s   16         0         \u001b[0m\n",
            "\u001b[36m#5        118.32 kH/s   10         0         \u001b[0m\n",
            "\u001b[36m#6        122.64 kH/s   13         0         \u001b[0m\n",
            "\u001b[41mTOTAL     718.35 kH/s   79         0         \u001b[0m\n",
            "\u001b[H\u001b[2J\u001b[93m\u001b[46mThread    Hashrate      Accepted   Rejected  \u001b[0m\n",
            "\u001b[36m#1        121.39 kH/s   15         0         \u001b[0m\n",
            "\u001b[36m#2        119.66 kH/s   14         0         \u001b[0m\n",
            "\u001b[36m#3        118.08 kH/s   18         0         \u001b[0m\n",
            "\u001b[36m#4        118.16 kH/s   20         0         \u001b[0m\n",
            "\u001b[36m#5        119.63 kH/s   12         0         \u001b[0m\n",
            "\u001b[36m#6        120.6 kH/s    16         0         \u001b[0m\n",
            "\u001b[41mTOTAL     717.52 kH/s   95         0         \u001b[0m\n",
            "\u001b[H\u001b[2J\u001b[93m\u001b[46mThread    Hashrate      Accepted   Rejected  \u001b[0m\n",
            "\u001b[36m#1        121.88 kH/s   17         0         \u001b[0m\n",
            "\u001b[36m#2        119.91 kH/s   15         0         \u001b[0m\n",
            "\u001b[36m#3        117.48 kH/s   20         0         \u001b[0m\n",
            "\u001b[36m#4        118.55 kH/s   21         0         \u001b[0m\n",
            "\u001b[36m#5        119.66 kH/s   14         0         \u001b[0m\n",
            "\u001b[36m#6        120.41 kH/s   18         0         \u001b[0m\n",
            "\u001b[41mTOTAL     717.89 kH/s   105        0         \u001b[0m\n",
            "\u001b[H\u001b[2J\u001b[93m\u001b[46mThread    Hashrate      Accepted   Rejected  \u001b[0m\n",
            "\u001b[36m#1        123.21 kH/s   18         0         \u001b[0m\n",
            "\u001b[36m#2        120.51 kH/s   17         0         \u001b[0m\n",
            "\u001b[36m#3        117.95 kH/s   21         0         \u001b[0m\n",
            "\u001b[36m#4        118.64 kH/s   25         0         \u001b[0m\n",
            "\u001b[36m#5        118.34 kH/s   15         0         \u001b[0m\n",
            "\u001b[36m#6        119.51 kH/s   19         0         \u001b[0m\n",
            "\u001b[41mTOTAL     718.16 kH/s   115        0         \u001b[0m\n",
            "\u001b[H\u001b[2J\u001b[93m\u001b[46mThread    Hashrate      Accepted   Rejected  \u001b[0m\n",
            "\u001b[36m#1        122.52 kH/s   20         0         \u001b[0m\n",
            "\u001b[36m#2        120.11 kH/s   19         0         \u001b[0m\n",
            "\u001b[36m#3        118.2 kH/s    22         0         \u001b[0m\n",
            "\u001b[36m#4        118.72 kH/s   26         0         \u001b[0m\n",
            "\u001b[36m#5        118.67 kH/s   19         0         \u001b[0m\n",
            "\u001b[36m#6        119.13 kH/s   20         0         \u001b[0m\n",
            "\u001b[41mTOTAL     717.35 kH/s   126        0         \u001b[0m\n",
            "\u001b[H\u001b[2J\u001b[93m\u001b[46mThread    Hashrate      Accepted   Rejected  \u001b[0m\n",
            "\u001b[36m#1        121.5 kH/s    25         0         \u001b[0m\n",
            "\u001b[36m#2        120.41 kH/s   20         0         \u001b[0m\n",
            "\u001b[36m#3        118.56 kH/s   25         0         \u001b[0m\n",
            "\u001b[36m#4        119.2 kH/s    29         0         \u001b[0m\n",
            "\u001b[36m#5        119.1 kH/s    20         0         \u001b[0m\n",
            "\u001b[36m#6        118.81 kH/s   23         0         \u001b[0m\n",
            "\u001b[41mTOTAL     717.58 kH/s   142        0         \u001b[0m\n",
            "\u001b[H\u001b[2J\u001b[93m\u001b[46mThread    Hashrate      Accepted   Rejected  \u001b[0m\n",
            "\u001b[36m#1        123.56 kH/s   26         0         \u001b[0m\n",
            "\u001b[36m#2        120.45 kH/s   21         0         \u001b[0m\n",
            "\u001b[36m#3        118.92 kH/s   26         0         \u001b[0m\n",
            "\u001b[36m#4        120.43 kH/s   30         0         \u001b[0m\n",
            "\u001b[36m#5        120.99 kH/s   21         0         \u001b[0m\n",
            "\u001b[36m#6        118.76 kH/s   24         0         \u001b[0m\n",
            "\u001b[41mTOTAL     723.11 kH/s   148        0         \u001b[0m\n",
            "\u001b[H\u001b[2J\u001b[93m\u001b[46mThread    Hashrate      Accepted   Rejected  \u001b[0m\n",
            "\u001b[36m#1        123.56 kH/s   26         0         \u001b[0m\n",
            "\u001b[36m#2        120.45 kH/s   21         0         \u001b[0m\n",
            "\u001b[36m#3        118.92 kH/s   26         0         \u001b[0m\n",
            "\u001b[36m#4        120.43 kH/s   30         0         \u001b[0m\n",
            "\u001b[36m#5        120.99 kH/s   21         0         \u001b[0m\n",
            "\u001b[36m#6        118.76 kH/s   24         0         \u001b[0m\n",
            "\u001b[41mTOTAL     723.11 kH/s   148        0         \u001b[0m\n"
          ],
          "name": "stdout"
        }
      ]
    }
  ]
}